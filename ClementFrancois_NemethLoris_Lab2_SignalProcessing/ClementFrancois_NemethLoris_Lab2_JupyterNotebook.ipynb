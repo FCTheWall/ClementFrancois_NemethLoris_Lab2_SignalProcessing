{
 "cells": [
  {
   "cell_type": "code",
   "execution_count": 14,
   "metadata": {},
   "outputs": [
    {
     "name": "stdout",
     "output_type": "stream",
     "text": [
      "Original array: [ 0  1  2  3  4  5  6  7  8  9 10 11 12 13 14 15 16 17 18 19 20]\n",
      "Extracted sub-array (array[5:15]): [ 5  6  7  8  9 10 11 12 13 14]\n",
      "Scaled sub-array: [10 12 14 16 18 20 22 24 26 28]\n"
     ]
    }
   ],
   "source": [
    "import numpy as np\n",
    "import matplotlib.pyplot as plt\n",
    "from scipy.fftpack import fft, fftfreq\n",
    "\n",
    "\n",
    "# Création d'un tableau de 20 nombres, de 0 à 20\n",
    "max_nbr = 21\n",
    "array = np.arange(0, max_nbr)  \n",
    "\n",
    "# Extraction des nombres de 5 à 15\n",
    "m, n = 5, 15  \n",
    "sub_array = array[m:n]  #Extraction des éléments 5 à 15 du tableau\n",
    "\n",
    "# Multiplication des éléments sélectionnés par 2\n",
    "factor = 2\n",
    "scaled_array = sub_array * factor  # Multiply each element by 2\n",
    "\n",
    "# Prints\n",
    "print(\"Original array:\", array)\n",
    "print(f\"Extracted sub-array (array[{m}:{n}]):\", sub_array)\n",
    "print(\"Scaled sub-array:\", scaled_array)\n"
   ]
  }
 ],
 "metadata": {
  "kernelspec": {
   "display_name": "Python 3",
   "language": "python",
   "name": "python3"
  },
  "language_info": {
   "codemirror_mode": {
    "name": "ipython",
    "version": 3
   },
   "file_extension": ".py",
   "mimetype": "text/x-python",
   "name": "python",
   "nbconvert_exporter": "python",
   "pygments_lexer": "ipython3",
   "version": "3.13.2"
  }
 },
 "nbformat": 4,
 "nbformat_minor": 2
}
