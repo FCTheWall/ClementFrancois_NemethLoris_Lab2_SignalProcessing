{
 "cells": [
  {
   "cell_type": "markdown",
   "metadata": {},
   "source": [
    "# 3. Import libraries\n",
    "\n",
    "- Import libraries\n",
    "- Creation of array and extraction of some elements of this array\n",
    "- Multiplication of the extracted elements by a factor 2"
   ]
  },
  {
   "cell_type": "code",
   "execution_count": 15,
   "metadata": {},
   "outputs": [
    {
     "name": "stdout",
     "output_type": "stream",
     "text": [
      "Original array: [ 0  1  2  3  4  5  6  7  8  9 10 11 12 13 14 15 16 17 18 19 20]\n",
      "Extracted sub-array (array[5:15]): [ 5  6  7  8  9 10 11 12 13 14]\n",
      "Scaled sub-array: [10 12 14 16 18 20 22 24 26 28]\n"
     ]
    }
   ],
   "source": [
    "import numpy as np\n",
    "import matplotlib.pyplot as plt\n",
    "from scipy.fftpack import fft, fftfreq\n",
    "\n",
    "\n",
    "# Création d'un tableau de 20 nombres, de 0 à 20\n",
    "max_nbr = 21\n",
    "array = np.arange(0, max_nbr)  \n",
    "\n",
    "# Extraction des nombres de 5 à 15\n",
    "m, n = 5, 15  \n",
    "sub_array = array[m:n]  #Extraction des éléments 5 à 15 du tableau\n",
    "\n",
    "# Multiplication des éléments sélectionnés par 2\n",
    "factor = 2\n",
    "scaled_array = sub_array * factor  # Multiply each element by 2\n",
    "\n",
    "# Prints\n",
    "print(\"Original array:\", array)\n",
    "print(f\"Extracted sub-array (array[{m}:{n}]):\", sub_array)\n",
    "print(\"Scaled sub-array:\", scaled_array)\n"
   ]
  },
  {
   "cell_type": "markdown",
   "metadata": {},
   "source": [
    "# 5. Mean values\n",
    "\n",
    "- Find a way to filter something by the way of mean values. The idea is to split the input signal\n",
    "into small parts and compute a mean for each of these parts. \n",
    "- In a second step, compute the mean by sliding over the sample.\n",
    "- Use a sample as generated above, with some noise and periodic signals. Take care to avec\n",
    "several periods of the signal."
   ]
  },
  {
   "cell_type": "code",
   "execution_count": 35,
   "metadata": {},
   "outputs": [
    {
     "name": "stdout",
     "output_type": "stream",
     "text": [
      "Array of values :  [[9 1 7 5 2 5 8 6 5 6]]\n",
      "Mean of array :  5.4\n"
     ]
    }
   ],
   "source": [
    "import numpy as np\n",
    "import matplotlib.pyplot as plt\n",
    "from scipy.fftpack import fft\n",
    "\n",
    "# Fonction permettant le calcul de la moyenne des échantillons de chaque segment\n",
    "def compute_mean(values):\n",
    "    return np.mean(values)\n",
    "\n",
    "# Segmentation du signal d'entrée\n",
    "m, n = 5, 15  \n",
    "seg1 = array[m:n]  \n",
    "seg2 = array[m:n]\n",
    "seg3 = array[m:n]\n",
    "seg4 = array[m:n]\n",
    "\n",
    "# Creation d'un tableau de 10 valeurs aléatoires (entre 0 et 10) et calcul de la moyenne de ces valeurs\n",
    "values = np.random.randint(0,10,size=(1, 10))\n",
    "mean = compute_mean(values)\n",
    "\n",
    "# Prints\n",
    "print(\"Array of values : \", values)\n",
    "print(\"Mean of array : \", mean)"
   ]
  },
  {
   "cell_type": "code",
   "execution_count": null,
   "metadata": {},
   "outputs": [],
   "source": [
    "\n",
    "\n",
    "# Fonction permettant de calculer et d'afficher la moyenne de différents segments d'un signal\n",
    "def segmented_mean(sample, segment_size):\n",
    "    means = [compute_mean(sample[i:i+segment_size]) for i in range(0, len(sample), segment_size)]\n",
    "    x_positions = np.arange(0, len(sample), segment_size)\n",
    "    \n",
    "    plt.figure(figsize=(10, 5))\n",
    "    plt.plot(x_positions, means, marker='o', linestyle='-', label='Segmented Mean')\n",
    "    plt.xlabel(\"Segment Start Index\")\n",
    "    plt.ylabel(\"Mean Value\")\n",
    "    plt.title(\"Segmented Mean of Sample\")\n",
    "    plt.legend()\n",
    "    plt.grid()\n",
    "    plt.show()"
   ]
  }
 ],
 "metadata": {
  "kernelspec": {
   "display_name": "Python 3",
   "language": "python",
   "name": "python3"
  },
  "language_info": {
   "codemirror_mode": {
    "name": "ipython",
    "version": 3
   },
   "file_extension": ".py",
   "mimetype": "text/x-python",
   "name": "python",
   "nbconvert_exporter": "python",
   "pygments_lexer": "ipython3",
   "version": "3.13.2"
  }
 },
 "nbformat": 4,
 "nbformat_minor": 2
}
